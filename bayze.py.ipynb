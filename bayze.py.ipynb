{
 "cells": [
  {
   "cell_type": "code",
   "execution_count": 205,
   "metadata": {},
   "outputs": [],
   "source": [
    "import numpy as np\n",
    "import pandas as pd\n",
    "import math"
   ]
  },
  {
   "cell_type": "code",
   "execution_count": 218,
   "metadata": {},
   "outputs": [],
   "source": [
    "#read xlsx file\n",
    "df = pd.read_excel(\"./iris_data_bayes.xlsx\")\n",
    "\n",
    "#change data\n",
    "df.columns = [\"x0\",\"x1\",\"x2\",\"x3\",\"x4\"]\n",
    "df.replace(\"ｾﾄﾅ\",\"0\",inplace=True)\n",
    "df.replace(\"ﾊﾞｰｼｸﾙ\",\"1\",inplace=True)\n",
    "df.replace(\"ﾊﾞｰｼﾞﾆｶ\",\"2\",inplace=True)\n",
    "\n",
    "#x = data\n",
    "X = df[[\"x0\",\"x1\",\"x2\",\"x3\"]].values\n",
    "\n",
    "#y = label\n",
    "y = df[\"x4\"].values\n"
   ]
  },
  {
   "cell_type": "code",
   "execution_count": 219,
   "metadata": {},
   "outputs": [],
   "source": [
    "#種類別にデータを別ける\n",
    "data_setona = df[df[\"x4\"].isin(['0'])]\n",
    "data_barsicl = df[df[\"x4\"].isin(['1'])]\n",
    "data_barsinica = df[df[\"x4\"].isin(['2'])]"
   ]
  },
  {
   "cell_type": "code",
   "execution_count": 220,
   "metadata": {},
   "outputs": [],
   "source": [
    "#事前分布\n",
    "p_y = np.array([1/3,1/3,1/3])\n",
    "\n",
    "#尤度計算式\n",
    "def like(x,mean,cov):\n",
    "    like = (1/np.sqrt(2*math.pi*cov**2)) *( np.exp(-(x-mean)**2/(2*cov**2)))\n",
    "    return like\n",
    "\n",
    "#平均と分散を求める\n",
    "def make_distribution(x):\n",
    "    mean = np.mean(x)\n",
    "    cov = np.var(x)\n",
    "    return mean,cov"
   ]
  },
  {
   "cell_type": "code",
   "execution_count": 221,
   "metadata": {},
   "outputs": [],
   "source": [
    "#正規分布作成(特徴量4つごとに)\n",
    "setona_x0 = make_distribution(data_setona[\"x0\"])\n",
    "setona_x1 = make_distribution(data_setona[\"x1\"])\n",
    "setona_x2 = make_distribution(data_setona[\"x2\"])\n",
    "setona_x3 = make_distribution(data_setona[\"x3\"])\n",
    "\n",
    "barsicl_x0 = make_distribution(data_barsicl[\"x0\"])\n",
    "barsicl_x1 = make_distribution(data_barsicl[\"x1\"])\n",
    "barsicl_x2 = make_distribution(data_barsicl[\"x2\"])\n",
    "barsicl_x3 = make_distribution(data_barsicl[\"x3\"])\n",
    "\n",
    "barsinica_x0 = make_distribution(data_barsinica[\"x0\"])\n",
    "barsinica_x1 = make_distribution(data_barsinica[\"x1\"])\n",
    "barsinica_x2 = make_distribution(data_barsinica[\"x2\"])\n",
    "barsinica_x3 = make_distribution(data_barsinica[\"x3\"])"
   ]
  },
  {
   "cell_type": "code",
   "execution_count": 222,
   "metadata": {},
   "outputs": [
    {
     "data": {
      "text/plain": [
       "(5.005999999999999, 0.12176399999999996)"
      ]
     },
     "execution_count": 222,
     "metadata": {},
     "output_type": "execute_result"
    }
   ],
   "source": [
    "#テスト\n",
    "setona_x0"
   ]
  },
  {
   "cell_type": "code",
   "execution_count": 223,
   "metadata": {},
   "outputs": [],
   "source": [
    "#テストデータ[4.3,3,1.1,0.1]　⇦一番最初のデータ（セトナに分類）\n",
    "#それぞれの種類毎に特徴についての尤度(4*3の12通り)を計算していく\n",
    "#セトナ\n",
    "setona_a = like(4.3,setona_x0[0],setona_x0[1])\n",
    "setona_b = like(3,setona_x1[0],setona_x1[1])\n",
    "setona_c = like(1.1,setona_x2[0],setona_x2[1])\n",
    "setona_d = like(0.1,setona_x3[0],setona_x3[1])\n",
    "#バーシクル\n",
    "barsicl_a = like(4.3,barsicl_x0[0],barsicl_x0[1])\n",
    "barsicl_b = like(3,barsicl_x1[0],barsicl_x1[1])\n",
    "barsicl_c = like(1.1,barsicl_x2[0],barsicl_x2[1])\n",
    "barsicl_d = like(0.1,barsicl_x3[0],barsicl_x3[1])\n",
    "#バージニカ\n",
    "barsinica_a = like(4.3,barsinica_x0[0],barsinica_x0[1])\n",
    "barsinica_b = like(3,barsinica_x1[0],barsinica_x1[1])\n",
    "barsinica_c = like(1.1,barsinica_x2[0],barsinica_x2[1])\n",
    "barsinica_d = like(0.1,barsinica_x3[0],barsinica_x3[1])"
   ]
  },
  {
   "cell_type": "code",
   "execution_count": 224,
   "metadata": {},
   "outputs": [],
   "source": [
    "setona_array = setona_a * setona_b * setona_c * setona_d"
   ]
  },
  {
   "cell_type": "code",
   "execution_count": 225,
   "metadata": {},
   "outputs": [],
   "source": [
    "barsicl_array = barsicl_a * barsicl_b * barsicl_c * barsicl_d"
   ]
  },
  {
   "cell_type": "code",
   "execution_count": 226,
   "metadata": {},
   "outputs": [],
   "source": [
    "barsinica_array = barsinica_a * barsinica_b * barsinica_c * barsinica_d"
   ]
  },
  {
   "cell_type": "code",
   "execution_count": 227,
   "metadata": {},
   "outputs": [],
   "source": [
    "test = np.array((setona_array,barsicl_array,barsinica_array))"
   ]
  },
  {
   "cell_type": "code",
   "execution_count": 228,
   "metadata": {},
   "outputs": [
    {
     "data": {
      "text/plain": [
       "array([1.70056769e-078, 2.08473821e-277, 1.04430230e-202])"
      ]
     },
     "execution_count": 228,
     "metadata": {},
     "output_type": "execute_result"
    }
   ],
   "source": [
    "#要素は左からセトナ，バーシクル，バージニア\n",
    "#もっとも大きい値がデータの与えたあやめの種類となる\n",
    "p_y * test"
   ]
  },
  {
   "cell_type": "code",
   "execution_count": 231,
   "metadata": {},
   "outputs": [
    {
     "name": "stdout",
     "output_type": "stream",
     "text": [
      "テストデータ: [[4.3 3.  1.1 0.1]]\n",
      "推定結果: ['0'] (0:セトナ,1:バーシクル,2:バージニカ)\n"
     ]
    }
   ],
   "source": [
    "#確認のためsklearnを使って同様の処理をしてみる\n",
    "from sklearn.naive_bayes import GaussianNB\n",
    "\n",
    "#x = data\n",
    "X = df[[\"x0\",\"x1\",\"x2\",\"x3\"]].values\n",
    "\n",
    "#y = label\n",
    "y = df[\"x4\"].values\n",
    "\n",
    "#ベイズ推定\n",
    "clf = GaussianNB()\n",
    "#学習\n",
    "clf.fit(X,y)\n",
    "\n",
    "#test_data\n",
    "t = np.array([[4.3,3,1.1,0.1]])\n",
    "\n",
    "#テストデータ\n",
    "print(\"テストデータ:\",t)\n",
    "#推定結果\n",
    "print(\"推定結果:\",clf.predict(t),\"(0:セトナ,1:バーシクル,2:バージニカ)\")"
   ]
  },
  {
   "cell_type": "code",
   "execution_count": null,
   "metadata": {},
   "outputs": [],
   "source": []
  },
  {
   "cell_type": "code",
   "execution_count": null,
   "metadata": {},
   "outputs": [],
   "source": []
  }
 ],
 "metadata": {
  "kernelspec": {
   "display_name": "Python 3",
   "language": "python",
   "name": "python3"
  },
  "language_info": {
   "codemirror_mode": {
    "name": "ipython",
    "version": 3
   },
   "file_extension": ".py",
   "mimetype": "text/x-python",
   "name": "python",
   "nbconvert_exporter": "python",
   "pygments_lexer": "ipython3",
   "version": "3.6.4"
  }
 },
 "nbformat": 4,
 "nbformat_minor": 2
}
